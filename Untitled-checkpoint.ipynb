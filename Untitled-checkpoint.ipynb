{
 "cells": [
  {
   "cell_type": "code",
   "execution_count": 21,
   "id": "517535ce-f9e3-454c-a729-58c3a697ee05",
   "metadata": {},
   "outputs": [],
   "source": [
    "import pandas as pd  #importing pandas library with the alias of pd\n",
    "import matplotlib.pyplot as plt   #importing matplotlib library with the alias of plt"
   ]
  },
  {
   "cell_type": "code",
   "execution_count": 22,
   "id": "63f9f106-2664-444d-8ba6-8b5d151b9ca2",
   "metadata": {},
   "outputs": [],
   "source": [
    "#Loading the csv file of train\n",
    "df = pd.read_csv('train.csv')"
   ]
  },
  {
   "cell_type": "code",
   "execution_count": 23,
   "id": "5e4de47d-2d69-4e45-995d-bb33a31c94a9",
   "metadata": {},
   "outputs": [
    {
     "name": "stdout",
     "output_type": "stream",
     "text": [
      "PassengerId      0\n",
      "Survived         0\n",
      "Pclass           0\n",
      "Name             0\n",
      "Sex              0\n",
      "Age            177\n",
      "SibSp            0\n",
      "Parch            0\n",
      "Ticket           0\n",
      "Fare             0\n",
      "Cabin          687\n",
      "Embarked         2\n",
      "dtype: int64\n"
     ]
    }
   ],
   "source": [
    "#Checking that which columns have null values by showing the sum of it.\n",
    "missing_values = df.isnull().sum()\n",
    "#Printing the result of null vaules\n",
    "print(missing_values)"
   ]
  },
  {
   "cell_type": "code",
   "execution_count": 25,
   "id": "6b552f1f-339e-4994-be14-a158b08e4ace",
   "metadata": {},
   "outputs": [],
   "source": [
    "#We have 177 null values in age\n",
    "#to fill those null values, I prefer using median \n",
    "df['Age'] = df['Age'].fillna(df['Age'].median())\n",
    "\n",
    "\n",
    "'''\n",
    "Cabin has 687 values missing. \n",
    "So at first I decided to drop it since more values are missing.\n",
    "However, I prefer to not drop it and instead create new column which will store 1 for known and also unkown cabins.\n",
    "It will store 0 for those who do not have cabin.\n",
    "'''\n",
    "# Creating a new column 'Has_Cabin'\n",
    "df['Has_Cabin'] = df['Cabin'].notnull().astype(int)\n",
    "# Fill missing values for Cabin with a placeholder (Unknown Value)\n",
    "df['Cabin'] = df['Cabin'].fillna('Unknown Value')\n",
    "\n",
    "\n",
    "# Embarked has 2 missing values which we can be filled by the mode or backfill. \n",
    "# I prefer mode for filling the missing values in Embarked.\n",
    "df['Embarked'] = df['Embarked'].fillna(df['Embarked'].mode()[0])"
   ]
  },
  {
   "cell_type": "code",
   "execution_count": 26,
   "id": "e15cffa6-d912-46d3-b8b1-a638c40d4d1a",
   "metadata": {},
   "outputs": [
    {
     "name": "stdout",
     "output_type": "stream",
     "text": [
      "Series([], dtype: int64)\n"
     ]
    }
   ],
   "source": [
    "# to ensure that missing values are handled \n",
    "missing_values_after = df.isnull().sum()\n",
    "#printing those columns which include missing values. \n",
    "#It avoids displaying those with 0 missing values.\n",
    "print(missing_values_after[missing_values_after > 0])"
   ]
  },
  {
   "cell_type": "code",
   "execution_count": 28,
   "id": "76e420a0-3206-43bb-9140-cddcfc1c0618",
   "metadata": {},
   "outputs": [
    {
     "name": "stdout",
     "output_type": "stream",
     "text": [
      "     PassengerId  Survived  Pclass  \\\n",
      "1              2         1       1   \n",
      "2              3         1       3   \n",
      "3              4         1       1   \n",
      "8              9         1       3   \n",
      "9             10         1       2   \n",
      "..           ...       ...     ...   \n",
      "880          881         1       2   \n",
      "882          883         0       3   \n",
      "885          886         0       3   \n",
      "887          888         1       1   \n",
      "888          889         0       3   \n",
      "\n",
      "                                                  Name     Sex   Age  SibSp  \\\n",
      "1    Cumings, Mrs. John Bradley (Florence Briggs Th...  female  38.0      1   \n",
      "2                               Heikkinen, Miss. Laina  female  26.0      0   \n",
      "3         Futrelle, Mrs. Jacques Heath (Lily May Peel)  female  35.0      1   \n",
      "8    Johnson, Mrs. Oscar W (Elisabeth Vilhelmina Berg)  female  27.0      0   \n",
      "9                  Nasser, Mrs. Nicholas (Adele Achem)  female  14.0      1   \n",
      "..                                                 ...     ...   ...    ...   \n",
      "880       Shelley, Mrs. William (Imanita Parrish Hall)  female  25.0      0   \n",
      "882                       Dahlberg, Miss. Gerda Ulrika  female  22.0      0   \n",
      "885               Rice, Mrs. William (Margaret Norton)  female  39.0      0   \n",
      "887                       Graham, Miss. Margaret Edith  female  19.0      0   \n",
      "888           Johnston, Miss. Catherine Helen \"Carrie\"  female  28.0      1   \n",
      "\n",
      "     Parch            Ticket     Fare    Cabin Embarked  Has_Cabin  \n",
      "1        0          PC 17599  71.2833      C85        C          1  \n",
      "2        0  STON/O2. 3101282   7.9250  Unknown        S          1  \n",
      "3        0            113803  53.1000     C123        S          1  \n",
      "8        2            347742  11.1333  Unknown        S          1  \n",
      "9        0            237736  30.0708  Unknown        C          1  \n",
      "..     ...               ...      ...      ...      ...        ...  \n",
      "880      1            230433  26.0000  Unknown        S          1  \n",
      "882      0              7552  10.5167  Unknown        S          1  \n",
      "885      5            382652  29.1250  Unknown        Q          1  \n",
      "887      0            112053  30.0000      B42        S          1  \n",
      "888      2        W./C. 6607  23.4500  Unknown        S          1  \n",
      "\n",
      "[314 rows x 13 columns]\n"
     ]
    }
   ],
   "source": [
    "# 1. Filtering for female passengers in any class\n",
    "female_passengers = df[df['Sex'] == 'female']\n",
    "print(female_passengers)"
   ]
  },
  {
   "cell_type": "code",
   "execution_count": 31,
   "id": "a8cbb2e5-0170-485e-904b-2bc1de285d19",
   "metadata": {},
   "outputs": [
    {
     "name": "stdout",
     "output_type": "stream",
     "text": [
      "PassengerId                                                28408\n",
      "Survived                                                      22\n",
      "Pclass                                                        99\n",
      "Name           McCarthy, Mr. Timothy JBonnell, Miss. Elizabet...\n",
      "Sex            malefemalefemalemalemalemalemalemalemalemalema...\n",
      "Age                                                       3758.0\n",
      "SibSp                                                         16\n",
      "Parch                                                         19\n",
      "Ticket         17463113783248706C.A. 24579113509364500PC 1775...\n",
      "Fare                                                   2790.7084\n",
      "Cabin          E46C103UnknownUnknownB30UnknownA5UnknownD26Unk...\n",
      "Embarked       SSSSCSCQSSSCSCCSSSSSSSQSSCSSSSSSCSCCCSSSSSCCSQ...\n",
      "Has_Cabin                                                     64\n",
      "dtype: object\n"
     ]
    }
   ],
   "source": [
    "# 2. Filter for passengers older than 50\n",
    "older_passengers = df[df['Age'] > 50]\n",
    "print(older_passengers.sum())"
   ]
  },
  {
   "cell_type": "code",
   "execution_count": 32,
   "id": "c9faeb04-2d68-4374-933b-71e0578ad1bd",
   "metadata": {},
   "outputs": [
    {
     "name": "stdout",
     "output_type": "stream",
     "text": [
      "PassengerId                                                33050\n",
      "Survived                                                      45\n",
      "Pclass                                                       205\n",
      "Name           Palsson, Master. Gosta LeonardNasser, Mrs. Nic...\n",
      "Sex            malefemalefemalefemalemalefemalefemalefemalema...\n",
      "Age                                                       453.67\n",
      "SibSp                                                        142\n",
      "Parch                                                        103\n",
      "Ticket         349909237736PP 95493504063826523499092651SC/Pa...\n",
      "Fare                                                   2472.9459\n",
      "Cabin          UnknownUnknownG6UnknownUnknownUnknownUnknownUn...\n",
      "Embarked       SCSSQSCCSSSSSCSCSSSQSSSSSSSSSQSSSSSCSSSSSSCCSS...\n",
      "Has_Cabin                                                     78\n",
      "dtype: object\n"
     ]
    }
   ],
   "source": [
    "# 3. Filtering for children less than age of 15\n",
    "children_passengers = df[df['Age'] < 15]\n",
    "print(children_passengers.sum())"
   ]
  },
  {
   "cell_type": "code",
   "execution_count": 33,
   "id": "b221ea3d-648a-4979-89fb-a2ed95186367",
   "metadata": {},
   "outputs": [],
   "source": [
    "# 4. Filtering for survived children\n",
    "survived_children = df[(df['Age'] < 15) & (df['Survived'] == 1)]\n",
    "print(survived_children)"
   ]
  },
  {
   "cell_type": "code",
   "execution_count": 34,
   "id": "4f75e5f8-898b-441b-be7d-59b7abc79900",
   "metadata": {},
   "outputs": [],
   "source": [
    "# 5. Filtering for survived male passengers\n",
    "survived_male = df[(df['Sex'] == 'male') & (df['Survived'] == 1)]\n",
    "print(survived_male)"
   ]
  },
  {
   "cell_type": "code",
   "execution_count": 38,
   "id": "647c5a91-06f5-4433-8d8a-2a63d968036c",
   "metadata": {},
   "outputs": [
    {
     "name": "stdout",
     "output_type": "stream",
     "text": [
      "     PassengerId  Survived  Pclass  \\\n",
      "1              2         1       1   \n",
      "2              3         1       3   \n",
      "3              4         1       1   \n",
      "8              9         1       3   \n",
      "9             10         1       2   \n",
      "..           ...       ...     ...   \n",
      "874          875         1       2   \n",
      "875          876         1       3   \n",
      "879          880         1       1   \n",
      "880          881         1       2   \n",
      "887          888         1       1   \n",
      "\n",
      "                                                  Name     Sex   Age  SibSp  \\\n",
      "1    Cumings, Mrs. John Bradley (Florence Briggs Th...  female  38.0      1   \n",
      "2                               Heikkinen, Miss. Laina  female  26.0      0   \n",
      "3         Futrelle, Mrs. Jacques Heath (Lily May Peel)  female  35.0      1   \n",
      "8    Johnson, Mrs. Oscar W (Elisabeth Vilhelmina Berg)  female  27.0      0   \n",
      "9                  Nasser, Mrs. Nicholas (Adele Achem)  female  14.0      1   \n",
      "..                                                 ...     ...   ...    ...   \n",
      "874              Abelson, Mrs. Samuel (Hannah Wizosky)  female  28.0      1   \n",
      "875                   Najib, Miss. Adele Kiamie \"Jane\"  female  15.0      0   \n",
      "879      Potter, Mrs. Thomas Jr (Lily Alexenia Wilson)  female  56.0      0   \n",
      "880       Shelley, Mrs. William (Imanita Parrish Hall)  female  25.0      0   \n",
      "887                       Graham, Miss. Margaret Edith  female  19.0      0   \n",
      "\n",
      "     Parch            Ticket     Fare    Cabin Embarked  Has_Cabin  \n",
      "1        0          PC 17599  71.2833      C85        C          1  \n",
      "2        0  STON/O2. 3101282   7.9250  Unknown        S          1  \n",
      "3        0            113803  53.1000     C123        S          1  \n",
      "8        2            347742  11.1333  Unknown        S          1  \n",
      "9        0            237736  30.0708  Unknown        C          1  \n",
      "..     ...               ...      ...      ...      ...        ...  \n",
      "874      0         P/PP 3381  24.0000  Unknown        C          1  \n",
      "875      0              2667   7.2250  Unknown        C          1  \n",
      "879      1             11767  83.1583      C50        C          1  \n",
      "880      1            230433  26.0000  Unknown        S          1  \n",
      "887      0            112053  30.0000      B42        S          1  \n",
      "\n",
      "[233 rows x 13 columns]\n"
     ]
    }
   ],
   "source": [
    "# 6. Filter for survived female passengers\n",
    "survived_female = df[(df['Sex'] == 'female') & (df['Survived'] == 1)]\n",
    "print(survived_female)\n"
   ]
  },
  {
   "cell_type": "code",
   "execution_count": 36,
   "id": "98b7dfbe-3d0f-4e76-9993-b70bf84b526b",
   "metadata": {},
   "outputs": [],
   "source": [
    "# 7. Filter for survived passengers in each class\n",
    "survived_in_each_class = df[df['Survived'] == 1]\n",
    "print(survived_in_each_class.sum())"
   ]
  },
  {
   "cell_type": "code",
   "execution_count": 37,
   "id": "15956c66-855d-4028-ad07-442f1bc35256",
   "metadata": {},
   "outputs": [],
   "source": [
    "# 10. Filter for passengers who have siblings/spouses aboard (SibSp > 0)\n",
    "passengers_with_family = df[df['SibSp'] > 0]\n",
    "print(passengers_with_family)"
   ]
  },
  {
   "cell_type": "code",
   "execution_count": 40,
   "id": "0ea1640c-016a-47f2-b639-237bbc2c7daf",
   "metadata": {},
   "outputs": [
    {
     "name": "stdout",
     "output_type": "stream",
     "text": [
      "     PassengerId  Survived  Pclass  \\\n",
      "0              1         0       3   \n",
      "1              2         1       1   \n",
      "2              3         1       3   \n",
      "3              4         1       1   \n",
      "4              5         0       3   \n",
      "..           ...       ...     ...   \n",
      "884          885         0       3   \n",
      "886          887         0       2   \n",
      "887          888         1       1   \n",
      "889          890         1       1   \n",
      "890          891         0       3   \n",
      "\n",
      "                                                  Name     Sex   Age  SibSp  \\\n",
      "0                              Braund, Mr. Owen Harris    male  22.0      1   \n",
      "1    Cumings, Mrs. John Bradley (Florence Briggs Th...  female  38.0      1   \n",
      "2                               Heikkinen, Miss. Laina  female  26.0      0   \n",
      "3         Futrelle, Mrs. Jacques Heath (Lily May Peel)  female  35.0      1   \n",
      "4                             Allen, Mr. William Henry    male  35.0      0   \n",
      "..                                                 ...     ...   ...    ...   \n",
      "884                             Sutehall, Mr. Henry Jr    male  25.0      0   \n",
      "886                              Montvila, Rev. Juozas    male  27.0      0   \n",
      "887                       Graham, Miss. Margaret Edith  female  19.0      0   \n",
      "889                              Behr, Mr. Karl Howell    male  26.0      0   \n",
      "890                                Dooley, Mr. Patrick    male  32.0      0   \n",
      "\n",
      "     Parch            Ticket     Fare    Cabin Embarked  Has_Cabin  \n",
      "0        0         A/5 21171   7.2500  Unknown        S          1  \n",
      "1        0          PC 17599  71.2833      C85        C          1  \n",
      "2        0  STON/O2. 3101282   7.9250  Unknown        S          1  \n",
      "3        0            113803  53.1000     C123        S          1  \n",
      "4        0            373450   8.0500  Unknown        S          1  \n",
      "..     ...               ...      ...      ...      ...        ...  \n",
      "884      0   SOTON/OQ 392076   7.0500  Unknown        S          1  \n",
      "886      0            211536  13.0000  Unknown        S          1  \n",
      "887      0            112053  30.0000      B42        S          1  \n",
      "889      0            111369  30.0000     C148        C          1  \n",
      "890      0            370376   7.7500  Unknown        Q          1  \n",
      "\n",
      "[678 rows x 13 columns]\n"
     ]
    }
   ],
   "source": [
    "# 11. Filter for passengers with no parents/children aboard (Parch == 0)\n",
    "passengers_without_family = df[df['Parch'] == 0]\n",
    "print(passengers_without_family)"
   ]
  },
  {
   "cell_type": "code",
   "execution_count": 47,
   "id": "bc0738a3-2665-4cc4-97ce-bbcb9605ffe8",
   "metadata": {},
   "outputs": [
    {
     "name": "stdout",
     "output_type": "stream",
     "text": [
      "Survived Summary:\n",
      "        Count  Average_Age\n",
      "Pclass                    \n",
      "1         136    34.609706\n",
      "2          87    25.998046\n",
      "3         119    22.747227\n"
     ]
    }
   ],
   "source": [
    "# Now for depth analyze I am grouping by 'Pclass' and aggregate relevant statistics\n",
    "'''\n",
    "For this we first filter those who have survived. \n",
    "Second group them by their class.\n",
    "Third aggregated them by how may are survived, and also the average of their ages.\n",
    "'''\n",
    "survived_summary = df[df['Survived'] == 1].groupby('Pclass').agg(\n",
    "    Count=('Survived', 'size'),\n",
    "    Average_Age=('Age', 'mean'),\n",
    ")\n",
    "\n",
    "print(\"Survived Summary:\")\n",
    "print(survived_summary)"
   ]
  },
  {
   "cell_type": "code",
   "execution_count": 52,
   "id": "bfceb9a0-97ea-4c86-8df8-ff7ccad5f4cc",
   "metadata": {},
   "outputs": [
    {
     "data": {
      "image/png": "[encoded data removed]",
      "text/plain": [
       "<Figure size 640x480 with 1 Axes>"
      ]
     },
     "metadata": {},
     "output_type": "display_data"
    }
   ],
   "source": [
    "# visualizing of the data\n",
    "'''\n",
    "I imported the matplotlib in the above for using this library.\n",
    "We can use differet kind of charts and visulization for different data.\n",
    "I prefer using barchart for the rate of surviavals.\n",
    "'''\n",
    "\n",
    "#Grouping the passenger class by those who have survived.\n",
    "survival_rate = df.groupby('Pclass')['Survived'].mean()\n",
    "\n",
    "# Features for plotting\n",
    "survival_rate.plot(kind='bar', color=['red', 'yellow', 'green']) # Kind of plot, and colors of each bar\n",
    "plt.title('Survival Rate by Passenger Class') #Title for this plot\n",
    "plt.xlabel('Passenger Class') # The x axis will be named as passenger class\n",
    "plt.ylabel('Survival Rate') # The y axix will be named as survival rate\n",
    "plt.show() # display the plot"
   ]
  },
  {
   "cell_type": "code",
   "execution_count": 74,
   "id": "7a34dd07-a2f3-4601-8ef4-62b6c4236dd2",
   "metadata": {},
   "outputs": [
    {
     "data": {
      "image/png": "[encoded data removed]",
      "text/plain": [
       "<Figure size 640x480 with 1 Axes>"
      ]
     },
     "metadata": {},
     "output_type": "display_data"
    }
   ],
   "source": [
    "# Creating a histogram for age distribution of survived passengers\n",
    "survived_ages = df[df['Survived']==1]['Age'].dropna()\n",
    "survived_ages.plot(kind='hist', color = 'purple', edgecolor = 'gray')\n",
    "# Adding titles and labels\n",
    "plt.title('Age Distribution of Survived Passengers') # Title of plot\n",
    "plt.xlabel('Age') # Name of the x-axis\n",
    "plt.ylabel('Frequency') # Name of the y-axis\n",
    "plt.show() # Display the plot"
   ]
  },
  {
   "cell_type": "code",
   "execution_count": 77,
   "id": "8551bfb2-d894-47bb-b12f-bad0267a2a15",
   "metadata": {},
   "outputs": [
    {
     "data": {
      "image/png": "[encoded data removed]",
      "text/plain": [
       "<Figure size 640x480 with 1 Axes>"
      ]
     },
     "metadata": {},
     "output_type": "display_data"
    }
   ],
   "source": [
    "# creating piechart for distribution of gender who have survived\n",
    "gender_survivors = df[df['Survived'] == 1]['Sex'].value_counts()\n",
    "\n",
    "gender_survivors.plot(kind='pie', autopct='%1.1f%%', colors=['blue', 'pink'])\n",
    "plt.title('Gender Distribution of Survivors')\n",
    "plt.show()"
   ]
  },
  {
   "cell_type": "code",
   "execution_count": null,
   "id": "d9839ea4-857f-4a33-9e46-1b51c194bee6",
   "metadata": {},
   "outputs": [],
   "source": []
  },
  {
   "cell_type": "code",
   "execution_count": null,
   "id": "49996832-2aef-4f86-86ae-a7a4c9a1ea3d",
   "metadata": {},
   "outputs": [],
   "source": []
  }
 ],
 "metadata": {
  "kernelspec": {
   "display_name": "Python 3 (ipykernel)",
   "language": "python",
   "name": "python3"
  },
  "language_info": {
   "codemirror_mode": {
    "name": "ipython",
    "version": 3
   },
   "file_extension": ".py",
   "mimetype": "text/x-python",
   "name": "python",
   "nbconvert_exporter": "python",
   "pygments_lexer": "ipython3",
   "version": "3.12.7"
  }
 },
 "nbformat": 4,
 "nbformat_minor": 5
}
